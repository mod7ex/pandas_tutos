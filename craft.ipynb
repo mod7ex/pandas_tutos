{
 "cells": [
  {
   "cell_type": "code",
   "execution_count": 21,
   "metadata": {},
   "outputs": [],
   "source": [
    "people = {\n",
    "    \"email\": [\n",
    "        \"dui.fusce.diam@icloud.edu\",\n",
    "        \"orci.lobortis@icloud.net\",\n",
    "        \"pulvinar.arcu.et@google.com\",\n",
    "        \"quis@aol.org\",\n",
    "        \"rutrum.magna@hotmail.com\"\n",
    "    ],\n",
    "    \"name\": [\n",
    "        \"Nolan Bernard\",\n",
    "        \"Hayes Noble\",\n",
    "        \"Joseph Mullins\",\n",
    "        \"Cleo Mathews\",\n",
    "        \"Owen Cantu\"\n",
    "    ],\n",
    "    \"postalZip\": [\n",
    "        \"54670\",\n",
    "        \"60425-59982\",\n",
    "        \"72241\",\n",
    "        \"3613\",\n",
    "        \"442851\"\n",
    "    ],\n",
    "    \"country\": [\n",
    "        \"Ukraine\",\n",
    "        \"India\",\n",
    "        \"Philippines\",\n",
    "        \"Indonesia\",\n",
    "        \"India\"\n",
    "    ]\n",
    "}"
   ]
  },
  {
   "cell_type": "code",
   "execution_count": 22,
   "metadata": {},
   "outputs": [
    {
     "data": {
      "text/html": [
       "<div>\n",
       "<style scoped>\n",
       "    .dataframe tbody tr th:only-of-type {\n",
       "        vertical-align: middle;\n",
       "    }\n",
       "\n",
       "    .dataframe tbody tr th {\n",
       "        vertical-align: top;\n",
       "    }\n",
       "\n",
       "    .dataframe thead th {\n",
       "        text-align: right;\n",
       "    }\n",
       "</style>\n",
       "<table border=\"1\" class=\"dataframe\">\n",
       "  <thead>\n",
       "    <tr style=\"text-align: right;\">\n",
       "      <th></th>\n",
       "      <th>email</th>\n",
       "      <th>name</th>\n",
       "      <th>postalZip</th>\n",
       "      <th>country</th>\n",
       "    </tr>\n",
       "  </thead>\n",
       "  <tbody>\n",
       "    <tr>\n",
       "      <th>0</th>\n",
       "      <td>dui.fusce.diam@icloud.edu</td>\n",
       "      <td>Nolan Bernard</td>\n",
       "      <td>54670</td>\n",
       "      <td>Ukraine</td>\n",
       "    </tr>\n",
       "    <tr>\n",
       "      <th>1</th>\n",
       "      <td>orci.lobortis@icloud.net</td>\n",
       "      <td>Hayes Noble</td>\n",
       "      <td>60425-59982</td>\n",
       "      <td>India</td>\n",
       "    </tr>\n",
       "    <tr>\n",
       "      <th>2</th>\n",
       "      <td>pulvinar.arcu.et@google.com</td>\n",
       "      <td>Joseph Mullins</td>\n",
       "      <td>72241</td>\n",
       "      <td>Philippines</td>\n",
       "    </tr>\n",
       "    <tr>\n",
       "      <th>3</th>\n",
       "      <td>quis@aol.org</td>\n",
       "      <td>Cleo Mathews</td>\n",
       "      <td>3613</td>\n",
       "      <td>Indonesia</td>\n",
       "    </tr>\n",
       "    <tr>\n",
       "      <th>4</th>\n",
       "      <td>rutrum.magna@hotmail.com</td>\n",
       "      <td>Owen Cantu</td>\n",
       "      <td>442851</td>\n",
       "      <td>India</td>\n",
       "    </tr>\n",
       "  </tbody>\n",
       "</table>\n",
       "</div>"
      ],
      "text/plain": [
       "                         email            name    postalZip      country\n",
       "0    dui.fusce.diam@icloud.edu   Nolan Bernard        54670      Ukraine\n",
       "1     orci.lobortis@icloud.net     Hayes Noble  60425-59982        India\n",
       "2  pulvinar.arcu.et@google.com  Joseph Mullins        72241  Philippines\n",
       "3                 quis@aol.org    Cleo Mathews         3613    Indonesia\n",
       "4     rutrum.magna@hotmail.com      Owen Cantu       442851        India"
      ]
     },
     "execution_count": 22,
     "metadata": {},
     "output_type": "execute_result"
    }
   ],
   "source": [
    "import pandas as pd\n",
    "\n",
    "df = pd.DataFrame(people)\n",
    "\n",
    "df"
   ]
  },
  {
   "cell_type": "markdown",
   "metadata": {},
   "source": [
    "# 1 - Indexes"
   ]
  },
  {
   "cell_type": "code",
   "execution_count": 23,
   "metadata": {},
   "outputs": [
    {
     "data": {
      "text/html": [
       "<div>\n",
       "<style scoped>\n",
       "    .dataframe tbody tr th:only-of-type {\n",
       "        vertical-align: middle;\n",
       "    }\n",
       "\n",
       "    .dataframe tbody tr th {\n",
       "        vertical-align: top;\n",
       "    }\n",
       "\n",
       "    .dataframe thead th {\n",
       "        text-align: right;\n",
       "    }\n",
       "</style>\n",
       "<table border=\"1\" class=\"dataframe\">\n",
       "  <thead>\n",
       "    <tr style=\"text-align: right;\">\n",
       "      <th></th>\n",
       "      <th>name</th>\n",
       "      <th>postalZip</th>\n",
       "      <th>country</th>\n",
       "    </tr>\n",
       "    <tr>\n",
       "      <th>email</th>\n",
       "      <th></th>\n",
       "      <th></th>\n",
       "      <th></th>\n",
       "    </tr>\n",
       "  </thead>\n",
       "  <tbody>\n",
       "    <tr>\n",
       "      <th>dui.fusce.diam@icloud.edu</th>\n",
       "      <td>Nolan Bernard</td>\n",
       "      <td>54670</td>\n",
       "      <td>Ukraine</td>\n",
       "    </tr>\n",
       "    <tr>\n",
       "      <th>orci.lobortis@icloud.net</th>\n",
       "      <td>Hayes Noble</td>\n",
       "      <td>60425-59982</td>\n",
       "      <td>India</td>\n",
       "    </tr>\n",
       "    <tr>\n",
       "      <th>pulvinar.arcu.et@google.com</th>\n",
       "      <td>Joseph Mullins</td>\n",
       "      <td>72241</td>\n",
       "      <td>Philippines</td>\n",
       "    </tr>\n",
       "    <tr>\n",
       "      <th>quis@aol.org</th>\n",
       "      <td>Cleo Mathews</td>\n",
       "      <td>3613</td>\n",
       "      <td>Indonesia</td>\n",
       "    </tr>\n",
       "    <tr>\n",
       "      <th>rutrum.magna@hotmail.com</th>\n",
       "      <td>Owen Cantu</td>\n",
       "      <td>442851</td>\n",
       "      <td>India</td>\n",
       "    </tr>\n",
       "  </tbody>\n",
       "</table>\n",
       "</div>"
      ],
      "text/plain": [
       "                                       name    postalZip      country\n",
       "email                                                                \n",
       "dui.fusce.diam@icloud.edu     Nolan Bernard        54670      Ukraine\n",
       "orci.lobortis@icloud.net        Hayes Noble  60425-59982        India\n",
       "pulvinar.arcu.et@google.com  Joseph Mullins        72241  Philippines\n",
       "quis@aol.org                   Cleo Mathews         3613    Indonesia\n",
       "rutrum.magna@hotmail.com         Owen Cantu       442851        India"
      ]
     },
     "execution_count": 23,
     "metadata": {},
     "output_type": "execute_result"
    }
   ],
   "source": [
    "df.set_index('email', inplace=True)\n",
    "\n",
    "df"
   ]
  },
  {
   "cell_type": "code",
   "execution_count": 24,
   "metadata": {},
   "outputs": [
    {
     "data": {
      "text/plain": [
       "Index(['dui.fusce.diam@icloud.edu', 'orci.lobortis@icloud.net',\n",
       "       'pulvinar.arcu.et@google.com', 'quis@aol.org',\n",
       "       'rutrum.magna@hotmail.com'],\n",
       "      dtype='object', name='email')"
      ]
     },
     "execution_count": 24,
     "metadata": {},
     "output_type": "execute_result"
    }
   ],
   "source": [
    "df.index"
   ]
  },
  {
   "cell_type": "code",
   "execution_count": 25,
   "metadata": {},
   "outputs": [
    {
     "data": {
      "text/plain": [
       "name       Cleo Mathews\n",
       "country       Indonesia\n",
       "Name: quis@aol.org, dtype: object"
      ]
     },
     "execution_count": 25,
     "metadata": {},
     "output_type": "execute_result"
    }
   ],
   "source": [
    "df.loc['quis@aol.org', ['name', 'country']]"
   ]
  },
  {
   "cell_type": "code",
   "execution_count": 26,
   "metadata": {},
   "outputs": [
    {
     "data": {
      "text/html": [
       "<div>\n",
       "<style scoped>\n",
       "    .dataframe tbody tr th:only-of-type {\n",
       "        vertical-align: middle;\n",
       "    }\n",
       "\n",
       "    .dataframe tbody tr th {\n",
       "        vertical-align: top;\n",
       "    }\n",
       "\n",
       "    .dataframe thead th {\n",
       "        text-align: right;\n",
       "    }\n",
       "</style>\n",
       "<table border=\"1\" class=\"dataframe\">\n",
       "  <thead>\n",
       "    <tr style=\"text-align: right;\">\n",
       "      <th></th>\n",
       "      <th>name</th>\n",
       "      <th>country</th>\n",
       "    </tr>\n",
       "    <tr>\n",
       "      <th>email</th>\n",
       "      <th></th>\n",
       "      <th></th>\n",
       "    </tr>\n",
       "  </thead>\n",
       "  <tbody>\n",
       "    <tr>\n",
       "      <th>dui.fusce.diam@icloud.edu</th>\n",
       "      <td>Nolan Bernard</td>\n",
       "      <td>Ukraine</td>\n",
       "    </tr>\n",
       "    <tr>\n",
       "      <th>orci.lobortis@icloud.net</th>\n",
       "      <td>Hayes Noble</td>\n",
       "      <td>India</td>\n",
       "    </tr>\n",
       "  </tbody>\n",
       "</table>\n",
       "</div>"
      ],
      "text/plain": [
       "                                    name  country\n",
       "email                                            \n",
       "dui.fusce.diam@icloud.edu  Nolan Bernard  Ukraine\n",
       "orci.lobortis@icloud.net     Hayes Noble    India"
      ]
     },
     "execution_count": 26,
     "metadata": {},
     "output_type": "execute_result"
    }
   ],
   "source": [
    "df.iloc[0:2, [0, 2]]"
   ]
  },
  {
   "cell_type": "code",
   "execution_count": 27,
   "metadata": {},
   "outputs": [
    {
     "data": {
      "text/html": [
       "<div>\n",
       "<style scoped>\n",
       "    .dataframe tbody tr th:only-of-type {\n",
       "        vertical-align: middle;\n",
       "    }\n",
       "\n",
       "    .dataframe tbody tr th {\n",
       "        vertical-align: top;\n",
       "    }\n",
       "\n",
       "    .dataframe thead th {\n",
       "        text-align: right;\n",
       "    }\n",
       "</style>\n",
       "<table border=\"1\" class=\"dataframe\">\n",
       "  <thead>\n",
       "    <tr style=\"text-align: right;\">\n",
       "      <th></th>\n",
       "      <th>email</th>\n",
       "      <th>name</th>\n",
       "      <th>postalZip</th>\n",
       "      <th>country</th>\n",
       "    </tr>\n",
       "  </thead>\n",
       "  <tbody>\n",
       "    <tr>\n",
       "      <th>0</th>\n",
       "      <td>dui.fusce.diam@icloud.edu</td>\n",
       "      <td>Nolan Bernard</td>\n",
       "      <td>54670</td>\n",
       "      <td>Ukraine</td>\n",
       "    </tr>\n",
       "    <tr>\n",
       "      <th>1</th>\n",
       "      <td>orci.lobortis@icloud.net</td>\n",
       "      <td>Hayes Noble</td>\n",
       "      <td>60425-59982</td>\n",
       "      <td>India</td>\n",
       "    </tr>\n",
       "    <tr>\n",
       "      <th>2</th>\n",
       "      <td>pulvinar.arcu.et@google.com</td>\n",
       "      <td>Joseph Mullins</td>\n",
       "      <td>72241</td>\n",
       "      <td>Philippines</td>\n",
       "    </tr>\n",
       "    <tr>\n",
       "      <th>3</th>\n",
       "      <td>quis@aol.org</td>\n",
       "      <td>Cleo Mathews</td>\n",
       "      <td>3613</td>\n",
       "      <td>Indonesia</td>\n",
       "    </tr>\n",
       "    <tr>\n",
       "      <th>4</th>\n",
       "      <td>rutrum.magna@hotmail.com</td>\n",
       "      <td>Owen Cantu</td>\n",
       "      <td>442851</td>\n",
       "      <td>India</td>\n",
       "    </tr>\n",
       "  </tbody>\n",
       "</table>\n",
       "</div>"
      ],
      "text/plain": [
       "                         email            name    postalZip      country\n",
       "0    dui.fusce.diam@icloud.edu   Nolan Bernard        54670      Ukraine\n",
       "1     orci.lobortis@icloud.net     Hayes Noble  60425-59982        India\n",
       "2  pulvinar.arcu.et@google.com  Joseph Mullins        72241  Philippines\n",
       "3                 quis@aol.org    Cleo Mathews         3613    Indonesia\n",
       "4     rutrum.magna@hotmail.com      Owen Cantu       442851        India"
      ]
     },
     "execution_count": 27,
     "metadata": {},
     "output_type": "execute_result"
    }
   ],
   "source": [
    "df.reset_index(inplace=True)\n",
    "\n",
    "df"
   ]
  },
  {
   "cell_type": "markdown",
   "metadata": {},
   "source": [
    "# 2 - Filters"
   ]
  },
  {
   "cell_type": "code",
   "execution_count": 28,
   "metadata": {},
   "outputs": [
    {
     "data": {
      "text/plain": [
       "0    False\n",
       "1    False\n",
       "2    False\n",
       "3    False\n",
       "4     True\n",
       "dtype: bool"
      ]
     },
     "execution_count": 28,
     "metadata": {},
     "output_type": "execute_result"
    }
   ],
   "source": [
    "filt = (df['country'] == 'India') & (df['postalZip'] == '442851') # filter\n",
    "\n",
    "filt # Series"
   ]
  },
  {
   "cell_type": "code",
   "execution_count": 29,
   "metadata": {},
   "outputs": [
    {
     "data": {
      "text/html": [
       "<div>\n",
       "<style scoped>\n",
       "    .dataframe tbody tr th:only-of-type {\n",
       "        vertical-align: middle;\n",
       "    }\n",
       "\n",
       "    .dataframe tbody tr th {\n",
       "        vertical-align: top;\n",
       "    }\n",
       "\n",
       "    .dataframe thead th {\n",
       "        text-align: right;\n",
       "    }\n",
       "</style>\n",
       "<table border=\"1\" class=\"dataframe\">\n",
       "  <thead>\n",
       "    <tr style=\"text-align: right;\">\n",
       "      <th></th>\n",
       "      <th>country</th>\n",
       "      <th>email</th>\n",
       "    </tr>\n",
       "  </thead>\n",
       "  <tbody>\n",
       "    <tr>\n",
       "      <th>0</th>\n",
       "      <td>Ukraine</td>\n",
       "      <td>dui.fusce.diam@icloud.edu</td>\n",
       "    </tr>\n",
       "    <tr>\n",
       "      <th>1</th>\n",
       "      <td>India</td>\n",
       "      <td>orci.lobortis@icloud.net</td>\n",
       "    </tr>\n",
       "    <tr>\n",
       "      <th>2</th>\n",
       "      <td>Philippines</td>\n",
       "      <td>pulvinar.arcu.et@google.com</td>\n",
       "    </tr>\n",
       "    <tr>\n",
       "      <th>3</th>\n",
       "      <td>Indonesia</td>\n",
       "      <td>quis@aol.org</td>\n",
       "    </tr>\n",
       "  </tbody>\n",
       "</table>\n",
       "</div>"
      ],
      "text/plain": [
       "       country                        email\n",
       "0      Ukraine    dui.fusce.diam@icloud.edu\n",
       "1        India     orci.lobortis@icloud.net\n",
       "2  Philippines  pulvinar.arcu.et@google.com\n",
       "3    Indonesia                 quis@aol.org"
      ]
     },
     "execution_count": 29,
     "metadata": {},
     "output_type": "execute_result"
    }
   ],
   "source": [
    "df[~filt][['country', 'email']]"
   ]
  },
  {
   "cell_type": "code",
   "execution_count": 30,
   "metadata": {},
   "outputs": [
    {
     "data": {
      "text/html": [
       "<div>\n",
       "<style scoped>\n",
       "    .dataframe tbody tr th:only-of-type {\n",
       "        vertical-align: middle;\n",
       "    }\n",
       "\n",
       "    .dataframe tbody tr th {\n",
       "        vertical-align: top;\n",
       "    }\n",
       "\n",
       "    .dataframe thead th {\n",
       "        text-align: right;\n",
       "    }\n",
       "</style>\n",
       "<table border=\"1\" class=\"dataframe\">\n",
       "  <thead>\n",
       "    <tr style=\"text-align: right;\">\n",
       "      <th></th>\n",
       "      <th>country</th>\n",
       "      <th>email</th>\n",
       "    </tr>\n",
       "  </thead>\n",
       "  <tbody>\n",
       "    <tr>\n",
       "      <th>4</th>\n",
       "      <td>India</td>\n",
       "      <td>rutrum.magna@hotmail.com</td>\n",
       "    </tr>\n",
       "  </tbody>\n",
       "</table>\n",
       "</div>"
      ],
      "text/plain": [
       "  country                     email\n",
       "4   India  rutrum.magna@hotmail.com"
      ]
     },
     "execution_count": 30,
     "metadata": {},
     "output_type": "execute_result"
    }
   ],
   "source": [
    "df.loc[filt, ['country', 'email']]"
   ]
  }
 ],
 "metadata": {
  "kernelspec": {
   "display_name": "Python 3",
   "language": "python",
   "name": "python3"
  },
  "language_info": {
   "codemirror_mode": {
    "name": "ipython",
    "version": 3
   },
   "file_extension": ".py",
   "mimetype": "text/x-python",
   "name": "python",
   "nbconvert_exporter": "python",
   "pygments_lexer": "ipython3",
   "version": "3.10.12"
  }
 },
 "nbformat": 4,
 "nbformat_minor": 2
}
